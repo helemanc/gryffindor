{
 "cells": [
  {
   "cell_type": "code",
   "execution_count": 93,
   "id": "62262757",
   "metadata": {},
   "outputs": [],
   "source": [
    "import time\n",
    "import json, os, sys\n",
    "import configparser\n",
    "import ast\n",
    "import pandas as pd\n",
    "import math\n",
    "import numpy as np\n",
    "PACKAGE_PARENT = '.'\n",
    "\n",
    "SCRIPT_DIR = os.path.dirname(os.path.realpath(os.path.join(os.getcwd(), os.path.expanduser(\"__file__\"))))\n",
    "sys.path.append(os.path.normpath(os.path.join(SCRIPT_DIR, PACKAGE_PARENT)))\n",
    "PREFIX_PATH = \"/\".join(os.path.dirname(os.path.abspath(\"__file__\")).split(\"/\")[:-2]) + \"/\"\n"
   ]
  },
  {
   "cell_type": "code",
   "execution_count": 94,
   "id": "72c4d0c8",
   "metadata": {},
   "outputs": [
    {
     "name": "stdout",
     "output_type": "stream",
     "text": [
      "/Users/sefika/gryffindor-ISWS/\n"
     ]
    }
   ],
   "source": [
    "config = configparser.ConfigParser()\n",
    "config.read(PREFIX_PATH + \"config.ini\")\n",
    "print(PREFIX_PATH)"
   ]
  },
  {
   "cell_type": "code",
   "execution_count": 95,
   "id": "55883921",
   "metadata": {},
   "outputs": [],
   "source": [
    "def mean_uqi(data_df):\n",
    "    dbpedia_abstract_prompt_not_nan = []\n",
    "    for value in data_df[\"dbpedia_abstract_prompt\"]:\n",
    "        if not math.isnan(value):\n",
    "            dbpedia_abstract_prompt_not_nan.append(value)\n",
    "    result = {\"basic label mean\": data_df[\"basic_prompt\"].mean(),\n",
    "             \"verbalised prompt mean\": data_df[\"verbalised_prompt\"].mean(),\n",
    "              \"plain prompt mean\": data_df['plain_prompt'].mean(),\n",
    "              \"dbpedia abstract prompt mean\": np.average(dbpedia_abstract_prompt_not_nan)\n",
    "             }\n",
    "    return result\n"
   ]
  },
  {
   "cell_type": "code",
   "execution_count": 96,
   "id": "a3d646ce",
   "metadata": {},
   "outputs": [],
   "source": [
    "def min_uqi(data_df):\n",
    "    dbpedia_abstract_prompt_not_nan = []\n",
    "    for value in data_df[\"dbpedia_abstract_prompt\"]:\n",
    "        if not math.isnan(value):\n",
    "            dbpedia_abstract_prompt_not_nan.append(value)\n",
    "    result = {\"basic label min\": data_df[\"basic_prompt\"].min(),\n",
    "             \"verbalised prompt min\": data_df[\"verbalised_prompt\"].min(),\n",
    "              \"plain prompt min\": data_df['plain_prompt'].min(),\n",
    "              \"dbpedia abstract prompt min\": np.min(dbpedia_abstract_prompt_not_nan)\n",
    "             }\n",
    "    return result"
   ]
  },
  {
   "cell_type": "code",
   "execution_count": 97,
   "id": "459cbcef",
   "metadata": {},
   "outputs": [],
   "source": [
    "def max_uqi(data_df):\n",
    "    dbpedia_abstract_prompt_not_nan = []\n",
    "    for value in data_df[\"dbpedia_abstract_prompt\"]:\n",
    "        if not math.isnan(value):\n",
    "            dbpedia_abstract_prompt_not_nan.append(value)\n",
    "    result = {\"basic label max\": data_df[\"basic_prompt\"].max(),\n",
    "             \"verbalised prompt max\": data_df[\"verbalised_prompt\"].max(),\n",
    "              \"plain prompt max\": data_df['plain_prompt'].max(),\n",
    "              \"dbpedia abstract prompt max\": np.max(dbpedia_abstract_prompt_not_nan)\n",
    "             }\n",
    "    return result"
   ]
  },
  {
   "cell_type": "code",
   "execution_count": 98,
   "id": "be6bad47",
   "metadata": {},
   "outputs": [],
   "source": [
    "def read_result(file_path):\n",
    "    with open(file_path, \"r\") as fout:\n",
    "        data = json.load(fout)\n",
    "    return data"
   ]
  },
  {
   "cell_type": "code",
   "execution_count": 99,
   "id": "fa4a436f",
   "metadata": {},
   "outputs": [],
   "source": [
    "uqi_results_file_path = PREFIX_PATH + config[\"EVALUATION\"][\"evaluation_uqi\"]"
   ]
  },
  {
   "cell_type": "code",
   "execution_count": 100,
   "id": "e15f9802",
   "metadata": {},
   "outputs": [],
   "source": [
    "uqi_data = read_result(uqi_results_file_path)"
   ]
  },
  {
   "cell_type": "code",
   "execution_count": 101,
   "id": "0994cf25",
   "metadata": {},
   "outputs": [],
   "source": [
    "uqi_data_df = pd.DataFrame(uqi_data) \n"
   ]
  },
  {
   "cell_type": "code",
   "execution_count": 102,
   "id": "c0c89ef3",
   "metadata": {},
   "outputs": [],
   "source": [
    "#mean uqi metrics\n",
    "mean_uqi_results = mean_uqi(uqi_data_df)\n"
   ]
  },
  {
   "cell_type": "code",
   "execution_count": 103,
   "id": "6640de9d",
   "metadata": {},
   "outputs": [],
   "source": [
    "#min uqi metrics\n",
    "min_uqi_results = min_uqi(uqi_data_df)\n"
   ]
  },
  {
   "cell_type": "code",
   "execution_count": 104,
   "id": "0988e2ee",
   "metadata": {},
   "outputs": [],
   "source": [
    "#max uqi metrics\n",
    "max_uqi_results = max_uqi(uqi_data_df)"
   ]
  },
  {
   "cell_type": "code",
   "execution_count": 113,
   "id": "1b78aee2",
   "metadata": {},
   "outputs": [],
   "source": [
    "results = {\"prompt type\":[\"basic label\",\"verbalized prompt\", \"plain prompt\", \"dbpedia abstract\"] , \"min\": min_uqi_results.values(), \"mean\":mean_uqi_results.values(), \"max\": max_uqi_results.values()}"
   ]
  },
  {
   "cell_type": "code",
   "execution_count": 114,
   "id": "05468250",
   "metadata": {},
   "outputs": [],
   "source": [
    "result_uqi_results_df = pd.DataFrame(results)"
   ]
  },
  {
   "cell_type": "code",
   "execution_count": 115,
   "id": "48e6ce03",
   "metadata": {},
   "outputs": [
    {
     "data": {
      "text/html": [
       "<div>\n",
       "<style scoped>\n",
       "    .dataframe tbody tr th:only-of-type {\n",
       "        vertical-align: middle;\n",
       "    }\n",
       "\n",
       "    .dataframe tbody tr th {\n",
       "        vertical-align: top;\n",
       "    }\n",
       "\n",
       "    .dataframe thead th {\n",
       "        text-align: right;\n",
       "    }\n",
       "</style>\n",
       "<table border=\"1\" class=\"dataframe\">\n",
       "  <thead>\n",
       "    <tr style=\"text-align: right;\">\n",
       "      <th></th>\n",
       "      <th>prompt type</th>\n",
       "      <th>min</th>\n",
       "      <th>mean</th>\n",
       "      <th>max</th>\n",
       "    </tr>\n",
       "  </thead>\n",
       "  <tbody>\n",
       "    <tr>\n",
       "      <th>0</th>\n",
       "      <td>basic label</td>\n",
       "      <td>0.0</td>\n",
       "      <td>0.499701</td>\n",
       "      <td>0.801950</td>\n",
       "    </tr>\n",
       "    <tr>\n",
       "      <th>1</th>\n",
       "      <td>verbalized prompt</td>\n",
       "      <td>0.0</td>\n",
       "      <td>0.500747</td>\n",
       "      <td>0.866049</td>\n",
       "    </tr>\n",
       "    <tr>\n",
       "      <th>2</th>\n",
       "      <td>plain prompt</td>\n",
       "      <td>0.0</td>\n",
       "      <td>0.499658</td>\n",
       "      <td>0.872124</td>\n",
       "    </tr>\n",
       "    <tr>\n",
       "      <th>3</th>\n",
       "      <td>dbpedia abstract</td>\n",
       "      <td>0.0</td>\n",
       "      <td>0.491510</td>\n",
       "      <td>0.782255</td>\n",
       "    </tr>\n",
       "  </tbody>\n",
       "</table>\n",
       "</div>"
      ],
      "text/plain": [
       "         prompt type  min      mean       max\n",
       "0        basic label  0.0  0.499701  0.801950\n",
       "1  verbalized prompt  0.0  0.500747  0.866049\n",
       "2       plain prompt  0.0  0.499658  0.872124\n",
       "3   dbpedia abstract  0.0  0.491510  0.782255"
      ]
     },
     "execution_count": 115,
     "metadata": {},
     "output_type": "execute_result"
    }
   ],
   "source": [
    "result_uqi_results_df"
   ]
  }
 ],
 "metadata": {
  "kernelspec": {
   "display_name": "Python 3 (ipykernel)",
   "language": "python",
   "name": "python3"
  },
  "language_info": {
   "codemirror_mode": {
    "name": "ipython",
    "version": 3
   },
   "file_extension": ".py",
   "mimetype": "text/x-python",
   "name": "python",
   "nbconvert_exporter": "python",
   "pygments_lexer": "ipython3",
   "version": "3.10.9"
  }
 },
 "nbformat": 4,
 "nbformat_minor": 5
}
