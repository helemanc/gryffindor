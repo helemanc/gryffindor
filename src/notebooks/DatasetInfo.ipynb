{
 "cells": [
  {
   "cell_type": "code",
   "execution_count": 1,
   "id": "7a97d165",
   "metadata": {},
   "outputs": [],
   "source": [
    "import time\n",
    "import json, os, sys\n",
    "import configparser\n",
    "import ast\n",
    "import pandas as pd\n",
    "import math\n",
    "import numpy as np\n",
    "PACKAGE_PARENT = '.'\n",
    "\n",
    "SCRIPT_DIR = os.path.dirname(os.path.realpath(os.path.join(os.getcwd(), os.path.expanduser(\"__file__\"))))\n",
    "sys.path.append(os.path.normpath(os.path.join(SCRIPT_DIR, PACKAGE_PARENT)))\n",
    "PREFIX_PATH = \"/\".join(os.path.dirname(os.path.abspath(\"__file__\")).split(\"/\")[:-2]) + \"/\"\n"
   ]
  },
  {
   "cell_type": "code",
   "execution_count": 2,
   "id": "7897af6d",
   "metadata": {},
   "outputs": [
    {
     "name": "stdout",
     "output_type": "stream",
     "text": [
      "/Users/sefika/gryffindor-ISWS/\n"
     ]
    }
   ],
   "source": [
    "config = configparser.ConfigParser()\n",
    "config.read(PREFIX_PATH + \"config.ini\")\n",
    "print(PREFIX_PATH)"
   ]
  },
  {
   "cell_type": "code",
   "execution_count": 8,
   "id": "d6cd7617",
   "metadata": {},
   "outputs": [],
   "source": [
    "#dataset info\n",
    "\n",
    "#read the fictional characters prompt\n",
    "prompt_fictional_characters_with_images_path = PREFIX_PATH+config[\"PATH\"][\"prompt_subset_data_with_images_path\"]\n",
    "\n",
    "with open(prompt_fictional_characters_with_images_path, \"r\") as fout:\n",
    "   prompt_fictional_characters_with_images_data = json.load(fout)\n"
   ]
  },
  {
   "cell_type": "code",
   "execution_count": 9,
   "id": "856987f0",
   "metadata": {},
   "outputs": [],
   "source": [
    "fc_with_images_df = pd.DataFrame(prompt_fictional_characters_with_images_data)"
   ]
  },
  {
   "cell_type": "code",
   "execution_count": 13,
   "id": "f92b3242",
   "metadata": {},
   "outputs": [
    {
     "name": "stdout",
     "output_type": "stream",
     "text": [
      "<class 'pandas.core.frame.DataFrame'>\n",
      "Int64Index: 925 entries, 0 to 1498\n",
      "Data columns (total 8 columns):\n",
      " #   Column                Non-Null Count  Dtype \n",
      "---  ------                --------------  ----- \n",
      " 0   item_id               925 non-null    object\n",
      " 1   label                 925 non-null    object\n",
      " 2   pic                   925 non-null    object\n",
      " 3   basic_label           925 non-null    object\n",
      " 4   filtered_triple_list  925 non-null    object\n",
      " 5   plain_triples         925 non-null    object\n",
      " 6   verbalised_triples    925 non-null    object\n",
      " 7   dbpedia_abstract      925 non-null    object\n",
      "dtypes: object(8)\n",
      "memory usage: 65.0+ KB\n"
     ]
    }
   ],
   "source": [
    "fc_with_images_df[fc_with_images_df[\"dbpedia_abstract\"]!=''].info()"
   ]
  },
  {
   "cell_type": "markdown",
   "id": "6979ed78",
   "metadata": {},
   "source": [
    "### Fictional Characters without Images"
   ]
  },
  {
   "cell_type": "code",
   "execution_count": 15,
   "id": "5a16f2ea",
   "metadata": {},
   "outputs": [],
   "source": [
    "#read the fictional characters prompt\n",
    "prompt_fictional_characters_without_images_path = PREFIX_PATH+config[\"PATH\"][\"prompt_subset_data_without_images_path\"]\n",
    "\n",
    "with open(prompt_fictional_characters_without_images_path, \"r\") as fout:\n",
    "   prompt_fictional_characters_without_images_data = json.load(fout)\n"
   ]
  },
  {
   "cell_type": "code",
   "execution_count": 16,
   "id": "f0c2b02a",
   "metadata": {},
   "outputs": [],
   "source": [
    "fc_without_images_df = pd.DataFrame(prompt_fictional_characters_without_images_data)"
   ]
  },
  {
   "cell_type": "code",
   "execution_count": 19,
   "id": "e3b41e66",
   "metadata": {},
   "outputs": [
    {
     "name": "stdout",
     "output_type": "stream",
     "text": [
      "<class 'pandas.core.series.Series'>\n",
      "Int64Index: 341 entries, 1 to 1494\n",
      "Series name: dbpedia_abstract\n",
      "Non-Null Count  Dtype \n",
      "--------------  ----- \n",
      "341 non-null    object\n",
      "dtypes: object(1)\n",
      "memory usage: 5.3+ KB\n"
     ]
    }
   ],
   "source": [
    "fc_without_images_df[fc_without_images_df[\"dbpedia_abstract\"]!=''][\"dbpedia_abstract\"].info()"
   ]
  }
 ],
 "metadata": {
  "kernelspec": {
   "display_name": "Python 3 (ipykernel)",
   "language": "python",
   "name": "python3"
  },
  "language_info": {
   "codemirror_mode": {
    "name": "ipython",
    "version": 3
   },
   "file_extension": ".py",
   "mimetype": "text/x-python",
   "name": "python",
   "nbconvert_exporter": "python",
   "pygments_lexer": "ipython3",
   "version": "3.10.9"
  }
 },
 "nbformat": 4,
 "nbformat_minor": 5
}
