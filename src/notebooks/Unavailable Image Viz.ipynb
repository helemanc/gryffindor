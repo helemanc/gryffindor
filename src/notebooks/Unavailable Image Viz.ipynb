{
 "cells": [
  {
   "cell_type": "code",
   "execution_count": 25,
   "id": "finished-destination",
   "metadata": {},
   "outputs": [],
   "source": [
    "import time\n",
    "import json, os, sys\n",
    "import configparser\n",
    "import ast\n",
    "PACKAGE_PARENT = '.'\n",
    "\n",
    "SCRIPT_DIR = os.path.dirname(os.path.realpath(os.path.join(os.getcwd(), os.path.expanduser(\"__file__\"))))\n",
    "sys.path.append(os.path.normpath(os.path.join(SCRIPT_DIR, PACKAGE_PARENT)))\n",
    "PREFIX_PATH = \"/\".join(os.path.dirname(os.path.abspath(\"__file__\")).split(\"/\")[:-2]) + \"/\"\n"
   ]
  },
  {
   "cell_type": "code",
   "execution_count": 26,
   "id": "systematic-athletics",
   "metadata": {},
   "outputs": [
    {
     "name": "stdout",
     "output_type": "stream",
     "text": [
      "/Users/sefika/gryffindor/\n"
     ]
    }
   ],
   "source": [
    "config = configparser.ConfigParser()\n",
    "config.read(PREFIX_PATH + \"config.ini\")\n",
    "print(PREFIX_PATH)\n",
    "    "
   ]
  },
  {
   "cell_type": "code",
   "execution_count": 27,
   "id": "general-aruba",
   "metadata": {},
   "outputs": [],
   "source": [
    "data = open(PREFIX_PATH + \"dataset/unavailable_pic_ids/unavailable_pic_ids.txt\", \"r\").readlines()"
   ]
  },
  {
   "cell_type": "code",
   "execution_count": 28,
   "id": "fourth-class",
   "metadata": {},
   "outputs": [],
   "source": [
    "data_ = ast.literal_eval(str(data[0]))"
   ]
  },
  {
   "cell_type": "code",
   "execution_count": 29,
   "id": "permanent-attack",
   "metadata": {},
   "outputs": [
    {
     "name": "stdout",
     "output_type": "stream",
     "text": [
      "# of unavailable image:27\n"
     ]
    }
   ],
   "source": [
    "print(\"# of unavailable image:{0}\".format(len(data_)))"
   ]
  },
  {
   "cell_type": "code",
   "execution_count": 30,
   "id": "stock-hunter",
   "metadata": {},
   "outputs": [
    {
     "name": "stdout",
     "output_type": "stream",
     "text": [
      "QID:http://www.wikidata.org/entity/Q3785974 \n",
      " Image URL:http://www.wikidata.org/.well-known/genid/fef769ad55421923f2e0e3615bf0c653\n",
      "QID:http://www.wikidata.org/entity/Q107127518 \n",
      " Image URL:http://www.wikidata.org/.well-known/genid/daa691209d83ac5016f144847859f633\n",
      "QID:http://www.wikidata.org/entity/Q3716555 \n",
      " Image URL:http://www.wikidata.org/.well-known/genid/ca915d51bcfe1e7925cd6b20c5abe6a8\n",
      "QID:http://www.wikidata.org/entity/Q1994807 \n",
      " Image URL:http://commons.wikimedia.org/wiki/Special:FilePath/Bhisma%20fight%20in%20Swayamvara.jpg\n",
      "QID:http://www.wikidata.org/entity/Q63738499 \n",
      " Image URL:http://www.wikidata.org/.well-known/genid/8ae1b4258531b566baf1aca1d778d3bc\n",
      "QID:http://www.wikidata.org/entity/Q11348428 \n",
      " Image URL:http://www.wikidata.org/.well-known/genid/9c94a90fc68dee12fba89b1c4cdbfc53\n",
      "QID:http://www.wikidata.org/entity/Q111646395 \n",
      " Image URL:http://www.wikidata.org/.well-known/genid/4f8d5a677a42166e85c7f10641b8012c\n",
      "QID:http://www.wikidata.org/entity/Q111645979 \n",
      " Image URL:http://www.wikidata.org/.well-known/genid/534bbb9621275a4271c4f94ae5395eaf\n",
      "QID:http://www.wikidata.org/entity/Q2978464 \n",
      " Image URL:http://commons.wikimedia.org/wiki/Special:FilePath/Birth%20of%20Shisupala.jpg\n",
      "QID:http://www.wikidata.org/entity/Q7496049 \n",
      " Image URL:http://commons.wikimedia.org/wiki/Special:FilePath/Kindness%20of%20Shibi.jpg\n",
      "QID:http://www.wikidata.org/entity/Q111646395 \n",
      " Image URL:http://www.wikidata.org/.well-known/genid/4f8d5a677a42166e85c7f10641b8012c\n",
      "QID:http://www.wikidata.org/entity/Q116603635 \n",
      " Image URL:http://commons.wikimedia.org/wiki/Special:FilePath/Brooke%20Passingham.webp\n",
      "QID:http://www.wikidata.org/entity/Q17193940 \n",
      " Image URL:http://www.wikidata.org/.well-known/genid/0dd1e85b42c0cd3edd212acb34e5be89\n",
      "QID:http://www.wikidata.org/entity/Q3785974 \n",
      " Image URL:http://www.wikidata.org/.well-known/genid/fef769ad55421923f2e0e3615bf0c653\n",
      "QID:http://www.wikidata.org/entity/Q7496049 \n",
      " Image URL:http://commons.wikimedia.org/wiki/Special:FilePath/Kindness%20of%20Shibi.jpg\n",
      "QID:http://www.wikidata.org/entity/Q65038625 \n",
      " Image URL:http://www.wikidata.org/.well-known/genid/da004d5825716a580fc2b5e4eed3f263\n",
      "QID:http://www.wikidata.org/entity/Q2044636 \n",
      " Image URL:http://commons.wikimedia.org/wiki/Special:FilePath/Bhisma%20fight%20in%20Swayamvara.jpg\n",
      "QID:http://www.wikidata.org/entity/Q3716555 \n",
      " Image URL:http://www.wikidata.org/.well-known/genid/ca915d51bcfe1e7925cd6b20c5abe6a8\n",
      "QID:http://www.wikidata.org/entity/Q65039853 \n",
      " Image URL:http://www.wikidata.org/.well-known/genid/53eb96e710981e3877375a136e5bcbb8\n",
      "QID:http://www.wikidata.org/entity/Q7496049 \n",
      " Image URL:http://commons.wikimedia.org/wiki/Special:FilePath/Kindness%20of%20Shibi.jpg\n",
      "QID:http://www.wikidata.org/entity/Q1849082 \n",
      " Image URL:http://commons.wikimedia.org/wiki/Special:FilePath/Vyas%20ki%20vardhan.jpg\n",
      "QID:http://www.wikidata.org/entity/Q943048 \n",
      " Image URL:http://www.wikidata.org/.well-known/genid/2ac9d5014eb54ecb8f0e43e4aa2c0958\n",
      "QID:http://www.wikidata.org/entity/Q2978464 \n",
      " Image URL:http://commons.wikimedia.org/wiki/Special:FilePath/Birth%20of%20Shisupala.jpg\n",
      "QID:http://www.wikidata.org/entity/Q1994807 \n",
      " Image URL:http://commons.wikimedia.org/wiki/Special:FilePath/Bhisma%20fight%20in%20Swayamvara.jpg\n",
      "QID:http://www.wikidata.org/entity/Q8081838 \n",
      " Image URL:http://commons.wikimedia.org/wiki/Special:FilePath/Sage%20Shakti%20cursing%20Raja%20Kalmashapad.jpg\n",
      "QID:http://www.wikidata.org/entity/Q2044636 \n",
      " Image URL:http://commons.wikimedia.org/wiki/Special:FilePath/Bhisma%20fight%20in%20Swayamvara.jpg\n",
      "QID:http://www.wikidata.org/entity/Q111646395 \n",
      " Image URL:http://www.wikidata.org/.well-known/genid/4f8d5a677a42166e85c7f10641b8012c\n"
     ]
    }
   ],
   "source": [
    "for item in data_:\n",
    "    print(\"QID:{0} \\n Image URL:{1}\".format(item[\"item_id\"], item[\"pic\"]))"
   ]
  }
 ],
 "metadata": {
  "kernelspec": {
   "display_name": "Python 3",
   "language": "python",
   "name": "python3"
  },
  "language_info": {
   "codemirror_mode": {
    "name": "ipython",
    "version": 3
   },
   "file_extension": ".py",
   "mimetype": "text/x-python",
   "name": "python",
   "nbconvert_exporter": "python",
   "pygments_lexer": "ipython3",
   "version": "3.7.7"
  }
 },
 "nbformat": 4,
 "nbformat_minor": 5
}
