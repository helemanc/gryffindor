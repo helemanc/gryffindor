{
 "cells": [
  {
   "cell_type": "code",
   "execution_count": 12,
   "id": "bound-surrey",
   "metadata": {},
   "outputs": [],
   "source": [
    "import time\n",
    "import json, os, sys\n",
    "import configparser\n",
    "import ast\n",
    "import pandas as pd\n",
    "PACKAGE_PARENT = '.'\n",
    "\n",
    "SCRIPT_DIR = os.path.dirname(os.path.realpath(os.path.join(os.getcwd(), os.path.expanduser(\"__file__\"))))\n",
    "sys.path.append(os.path.normpath(os.path.join(SCRIPT_DIR, PACKAGE_PARENT)))\n",
    "PREFIX_PATH = \"/\".join(os.path.dirname(os.path.abspath(\"__file__\")).split(\"/\")[:-2]) + \"/\"\n"
   ]
  },
  {
   "cell_type": "code",
   "execution_count": 13,
   "id": "rubber-times",
   "metadata": {},
   "outputs": [
    {
     "name": "stdout",
     "output_type": "stream",
     "text": [
      "/Users/sefika/gryffindor-ISWS/\n"
     ]
    }
   ],
   "source": [
    "config = configparser.ConfigParser()\n",
    "config.read(PREFIX_PATH + \"config.ini\")\n",
    "print(PREFIX_PATH)"
   ]
  },
  {
   "cell_type": "code",
   "execution_count": 14,
   "id": "b345d8e2",
   "metadata": {},
   "outputs": [],
   "source": [
    "with open(PREFIX_PATH+config[\"PATH\"][\"subset_data_with_images_path\"], 'r') as f:\n",
    "    data = json.load(f)"
   ]
  },
  {
   "cell_type": "code",
   "execution_count": 31,
   "id": "edbb805b",
   "metadata": {},
   "outputs": [],
   "source": [
    "triples= []\n",
    "for item in data:\n",
    "    predicates = []\n",
    "    for triple in item[\"triple_list\"]:\n",
    "        predicates.append(triple[\"predicate\"])\n",
    "    triples.extend(list(set(predicates)))\n"
   ]
  },
  {
   "cell_type": "code",
   "execution_count": 16,
   "id": "e265bd54",
   "metadata": {},
   "outputs": [],
   "source": [
    "raw_with_images = df = pd.DataFrame(triples)"
   ]
  },
  {
   "cell_type": "code",
   "execution_count": 17,
   "id": "206cc71e",
   "metadata": {},
   "outputs": [
    {
     "name": "stdout",
     "output_type": "stream",
     "text": [
      "The the 10 most properties of the raw data with images\n"
     ]
    },
    {
     "data": {
      "text/plain": [
       "instance of                            1472\n",
       "sex or gender                          1200\n",
       "present in work                        1094\n",
       "creator                                 595\n",
       "occupation                              576\n",
       "given name                              498\n",
       "performer                               444\n",
       "country of citizenship                  436\n",
       "from narrative universe                 400\n",
       "languages spoken, written or signed     298\n",
       "dtype: int64"
      ]
     },
     "execution_count": 17,
     "metadata": {},
     "output_type": "execute_result"
    }
   ],
   "source": [
    "print(\"The the 10 most properties of the raw data with images\")\n",
    "raw_with_images.value_counts()[:10]"
   ]
  },
  {
   "cell_type": "code",
   "execution_count": 32,
   "id": "69756569",
   "metadata": {},
   "outputs": [],
   "source": [
    "with open(PREFIX_PATH+config[\"PATH\"][\"wiki_data_without_images_path\"], 'r') as f:\n",
    "    items = json.load(f)\n",
    "raw_without_images_triples= []\n",
    "for item in items:\n",
    "    predicates = []\n",
    "    for triple in item[\"triple_list\"]:\n",
    "        predicates.append(triple[\"predicate\"])\n",
    "    raw_without_images_triples.extend(list(set(predicates)))\n"
   ]
  },
  {
   "cell_type": "code",
   "execution_count": 19,
   "id": "5ca928cd",
   "metadata": {},
   "outputs": [
    {
     "name": "stdout",
     "output_type": "stream",
     "text": [
      "The the 10 most properties of the raw data without images\n"
     ]
    },
    {
     "data": {
      "text/plain": [
       "instance of                1473\n",
       "present in work            1231\n",
       "sex or gender              1087\n",
       "from narrative universe     481\n",
       "given name                  377\n",
       "occupation                  365\n",
       "performer                   355\n",
       "creator                     307\n",
       "country of citizenship      234\n",
       "family name                 221\n",
       "dtype: int64"
      ]
     },
     "execution_count": 19,
     "metadata": {},
     "output_type": "execute_result"
    }
   ],
   "source": [
    "raw_without_images = df = pd.DataFrame(raw_without_images_triples)\n",
    "print(\"The the 10 most properties of the raw data without images\")\n",
    "raw_without_images.value_counts()[:10]"
   ]
  },
  {
   "cell_type": "code",
   "execution_count": 33,
   "id": "f4a0d89f",
   "metadata": {},
   "outputs": [],
   "source": [
    "triples.extend(raw_without_images_triples)"
   ]
  },
  {
   "cell_type": "code",
   "execution_count": 34,
   "id": "77626541",
   "metadata": {},
   "outputs": [],
   "source": [
    "all_raw = pd.DataFrame(triples)"
   ]
  },
  {
   "cell_type": "code",
   "execution_count": 27,
   "id": "2421a287",
   "metadata": {},
   "outputs": [],
   "source": []
  },
  {
   "cell_type": "code",
   "execution_count": 35,
   "id": "4968c0df",
   "metadata": {},
   "outputs": [
    {
     "name": "stdout",
     "output_type": "stream",
     "text": [
      "The the 10 most properties of entire data\n"
     ]
    },
    {
     "data": {
      "text/plain": [
       "instance of                2945\n",
       "present in work            2325\n",
       "sex or gender              2287\n",
       "occupation                  941\n",
       "creator                     902\n",
       "from narrative universe     881\n",
       "given name                  875\n",
       "performer                   799\n",
       "country of citizenship      670\n",
       "family name                 507\n",
       "dtype: int64"
      ]
     },
     "execution_count": 35,
     "metadata": {},
     "output_type": "execute_result"
    }
   ],
   "source": [
    "print(\"The the 10 most properties of entire data\")\n",
    "all_raw.value_counts()[:10]"
   ]
  }
 ],
 "metadata": {
  "kernelspec": {
   "display_name": "Python 3 (ipykernel)",
   "language": "python",
   "name": "python3"
  },
  "language_info": {
   "codemirror_mode": {
    "name": "ipython",
    "version": 3
   },
   "file_extension": ".py",
   "mimetype": "text/x-python",
   "name": "python",
   "nbconvert_exporter": "python",
   "pygments_lexer": "ipython3",
   "version": "3.10.9"
  }
 },
 "nbformat": 4,
 "nbformat_minor": 5
}
